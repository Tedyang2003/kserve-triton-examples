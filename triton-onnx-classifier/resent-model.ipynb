{
 "cells": [
  {
   "cell_type": "code",
   "execution_count": null,
   "metadata": {},
   "outputs": [],
   "source": [
    "import torch\n",
    "import torchvision.models as models\n",
    "\n",
    "torch.hub._validate_not_a_forked_repo=lambda a,b,c: True\n",
    "\n",
    "# load model; We are going to use a pretrained resnet model\n",
    "model = models.resnet50(pretrained=True).eval()\n",
    "x = torch.randn(1, 3, 224, 224, requires_grad=True)\n",
    "\n",
    "# Export the model\n",
    "torch.onnx.export(model,                        # model being run\n",
    "                  x,                            # model input (or a tuple for multiple inputs)\n",
    "                  \"resnet50.onnx\",              # where to save the model (can be a file or file-like object)\n",
    "                  export_params=True,           # store the trained parameter weights inside the model file\n",
    "                  input_names = ['input'],      # the model's input names\n",
    "                  output_names = ['output'],    # the model's output names\n",
    "                  )"
   ]
  }
 ],
 "metadata": {
  "kernelspec": {
   "display_name": "env",
   "language": "python",
   "name": "python3"
  },
  "language_info": {
   "name": "python",
   "version": "3.12.4"
  }
 },
 "nbformat": 4,
 "nbformat_minor": 2
}
